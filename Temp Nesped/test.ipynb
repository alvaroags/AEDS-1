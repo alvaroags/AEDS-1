{
 "cells": [
  {
   "cell_type": "code",
   "execution_count": 40,
   "metadata": {},
   "outputs": [],
   "source": [
    "import matplotlib.pyplot as plt \n",
    "import seaborn as sns\n",
    "import pandas as pd\n",
    "sns.set_style(\"whitegrid\")"
   ]
  },
  {
   "cell_type": "code",
   "execution_count": 63,
   "metadata": {},
   "outputs": [
    {
     "data": {
      "text/html": [
       "<div>\n",
       "<style scoped>\n",
       "    .dataframe tbody tr th:only-of-type {\n",
       "        vertical-align: middle;\n",
       "    }\n",
       "\n",
       "    .dataframe tbody tr th {\n",
       "        vertical-align: top;\n",
       "    }\n",
       "\n",
       "    .dataframe thead th {\n",
       "        text-align: right;\n",
       "    }\n",
       "</style>\n",
       "<table border=\"1\" class=\"dataframe\">\n",
       "  <thead>\n",
       "    <tr style=\"text-align: right;\">\n",
       "      <th></th>\n",
       "      <th>fixed acidity</th>\n",
       "      <th>volatile acidity</th>\n",
       "      <th>citric acid</th>\n",
       "      <th>residual sugar</th>\n",
       "      <th>chlorides</th>\n",
       "      <th>free sulfur dioxide</th>\n",
       "      <th>total sulfur dioxide</th>\n",
       "      <th>density</th>\n",
       "      <th>pH</th>\n",
       "      <th>sulphates</th>\n",
       "      <th>alcohol</th>\n",
       "      <th>quality</th>\n",
       "    </tr>\n",
       "  </thead>\n",
       "  <tbody>\n",
       "    <tr>\n",
       "      <th>count</th>\n",
       "      <td>3886.000000</td>\n",
       "      <td>3891.000000</td>\n",
       "      <td>3893.000000</td>\n",
       "      <td>3894.000000</td>\n",
       "      <td>3892.000000</td>\n",
       "      <td>3894.000000</td>\n",
       "      <td>3894.000000</td>\n",
       "      <td>3894.000000</td>\n",
       "      <td>3889.000000</td>\n",
       "      <td>3891.000000</td>\n",
       "      <td>3894.000000</td>\n",
       "      <td>3894.000000</td>\n",
       "    </tr>\n",
       "    <tr>\n",
       "      <th>mean</th>\n",
       "      <td>7.180198</td>\n",
       "      <td>0.327909</td>\n",
       "      <td>0.318587</td>\n",
       "      <td>4.089882</td>\n",
       "      <td>0.049275</td>\n",
       "      <td>28.118516</td>\n",
       "      <td>104.228428</td>\n",
       "      <td>0.993352</td>\n",
       "      <td>3.236837</td>\n",
       "      <td>0.532845</td>\n",
       "      <td>11.253731</td>\n",
       "      <td>6.065999</td>\n",
       "    </tr>\n",
       "    <tr>\n",
       "      <th>std</th>\n",
       "      <td>1.373100</td>\n",
       "      <td>0.159926</td>\n",
       "      <td>0.135433</td>\n",
       "      <td>3.612733</td>\n",
       "      <td>0.024352</td>\n",
       "      <td>16.538112</td>\n",
       "      <td>50.719431</td>\n",
       "      <td>0.002768</td>\n",
       "      <td>0.164734</td>\n",
       "      <td>0.148301</td>\n",
       "      <td>0.921831</td>\n",
       "      <td>0.882230</td>\n",
       "    </tr>\n",
       "    <tr>\n",
       "      <th>min</th>\n",
       "      <td>3.800000</td>\n",
       "      <td>0.080000</td>\n",
       "      <td>0.000000</td>\n",
       "      <td>0.600000</td>\n",
       "      <td>0.009000</td>\n",
       "      <td>1.000000</td>\n",
       "      <td>6.000000</td>\n",
       "      <td>0.987110</td>\n",
       "      <td>2.740000</td>\n",
       "      <td>0.220000</td>\n",
       "      <td>10.000000</td>\n",
       "      <td>3.000000</td>\n",
       "    </tr>\n",
       "    <tr>\n",
       "      <th>25%</th>\n",
       "      <td>6.300000</td>\n",
       "      <td>0.220000</td>\n",
       "      <td>0.260000</td>\n",
       "      <td>1.700000</td>\n",
       "      <td>0.034000</td>\n",
       "      <td>16.000000</td>\n",
       "      <td>71.250000</td>\n",
       "      <td>0.991300</td>\n",
       "      <td>3.120000</td>\n",
       "      <td>0.420000</td>\n",
       "      <td>10.500000</td>\n",
       "      <td>6.000000</td>\n",
       "    </tr>\n",
       "    <tr>\n",
       "      <th>50%</th>\n",
       "      <td>6.900000</td>\n",
       "      <td>0.280000</td>\n",
       "      <td>0.310000</td>\n",
       "      <td>2.500000</td>\n",
       "      <td>0.042000</td>\n",
       "      <td>27.000000</td>\n",
       "      <td>109.000000</td>\n",
       "      <td>0.993000</td>\n",
       "      <td>3.230000</td>\n",
       "      <td>0.520000</td>\n",
       "      <td>11.100000</td>\n",
       "      <td>6.000000</td>\n",
       "    </tr>\n",
       "    <tr>\n",
       "      <th>75%</th>\n",
       "      <td>7.700000</td>\n",
       "      <td>0.390000</td>\n",
       "      <td>0.380000</td>\n",
       "      <td>5.700000</td>\n",
       "      <td>0.056000</td>\n",
       "      <td>37.000000</td>\n",
       "      <td>138.000000</td>\n",
       "      <td>0.995280</td>\n",
       "      <td>3.340000</td>\n",
       "      <td>0.620000</td>\n",
       "      <td>12.000000</td>\n",
       "      <td>7.000000</td>\n",
       "    </tr>\n",
       "    <tr>\n",
       "      <th>max</th>\n",
       "      <td>15.900000</td>\n",
       "      <td>1.580000</td>\n",
       "      <td>1.660000</td>\n",
       "      <td>65.800000</td>\n",
       "      <td>0.343000</td>\n",
       "      <td>289.000000</td>\n",
       "      <td>440.000000</td>\n",
       "      <td>1.038980</td>\n",
       "      <td>4.010000</td>\n",
       "      <td>1.360000</td>\n",
       "      <td>14.900000</td>\n",
       "      <td>9.000000</td>\n",
       "    </tr>\n",
       "  </tbody>\n",
       "</table>\n",
       "</div>"
      ],
      "text/plain": [
       "       fixed acidity  volatile acidity  citric acid  residual sugar  \\\n",
       "count    3886.000000       3891.000000  3893.000000     3894.000000   \n",
       "mean        7.180198          0.327909     0.318587        4.089882   \n",
       "std         1.373100          0.159926     0.135433        3.612733   \n",
       "min         3.800000          0.080000     0.000000        0.600000   \n",
       "25%         6.300000          0.220000     0.260000        1.700000   \n",
       "50%         6.900000          0.280000     0.310000        2.500000   \n",
       "75%         7.700000          0.390000     0.380000        5.700000   \n",
       "max        15.900000          1.580000     1.660000       65.800000   \n",
       "\n",
       "         chlorides  free sulfur dioxide  total sulfur dioxide      density  \\\n",
       "count  3892.000000          3894.000000           3894.000000  3894.000000   \n",
       "mean      0.049275            28.118516            104.228428     0.993352   \n",
       "std       0.024352            16.538112             50.719431     0.002768   \n",
       "min       0.009000             1.000000              6.000000     0.987110   \n",
       "25%       0.034000            16.000000             71.250000     0.991300   \n",
       "50%       0.042000            27.000000            109.000000     0.993000   \n",
       "75%       0.056000            37.000000            138.000000     0.995280   \n",
       "max       0.343000           289.000000            440.000000     1.038980   \n",
       "\n",
       "                pH    sulphates      alcohol      quality  \n",
       "count  3889.000000  3891.000000  3894.000000  3894.000000  \n",
       "mean      3.236837     0.532845    11.253731     6.065999  \n",
       "std       0.164734     0.148301     0.921831     0.882230  \n",
       "min       2.740000     0.220000    10.000000     3.000000  \n",
       "25%       3.120000     0.420000    10.500000     6.000000  \n",
       "50%       3.230000     0.520000    11.100000     6.000000  \n",
       "75%       3.340000     0.620000    12.000000     7.000000  \n",
       "max       4.010000     1.360000    14.900000     9.000000  "
      ]
     },
     "execution_count": 63,
     "metadata": {},
     "output_type": "execute_result"
    }
   ],
   "source": [
    "df = pd.read_csv(\"winequalityN.csv\")\n",
    "df = df[df.alcohol >= 10]\n",
    "df.describe()"
   ]
  },
  {
   "cell_type": "code",
   "execution_count": 67,
   "metadata": {},
   "outputs": [
    {
     "data": {
      "text/plain": [
       "10.000000    229\n",
       "10.500000    227\n",
       "11.000000    217\n",
       "10.400000    194\n",
       "10.800000    177\n",
       "            ... \n",
       "11.266667      1\n",
       "13.050000      1\n",
       "11.366667      1\n",
       "12.333333      1\n",
       "10.750000      1\n",
       "Name: alcohol, Length: 84, dtype: int64"
      ]
     },
     "execution_count": 67,
     "metadata": {},
     "output_type": "execute_result"
    }
   ],
   "source": [
    "df.alcohol.value_counts()"
   ]
  },
  {
   "cell_type": "code",
   "execution_count": 77,
   "metadata": {},
   "outputs": [],
   "source": [
    "df[\"alcohol_round\"] = df[\"alcohol\"].round(0)"
   ]
  },
  {
   "cell_type": "code",
   "execution_count": null,
   "metadata": {},
   "outputs": [],
   "source": []
  },
  {
   "cell_type": "code",
   "execution_count": 81,
   "metadata": {},
   "outputs": [
    {
     "data": {
      "text/plain": [
       "<AxesSubplot: >"
      ]
     },
     "execution_count": 81,
     "metadata": {},
     "output_type": "execute_result"
    },
    {
     "data": {
      "image/png": "[encoded data removed]",
      "text/plain": [
       "<Figure size 500x500 with 1 Axes>"
      ]
     },
     "metadata": {},
     "output_type": "display_data"
    }
   ],
   "source": [
    "fig = plt.figure(figsize=(5,5))\n",
    "sns.barplot(x=df.alcohol_round.value_counts().index,y=df.alcohol_round.value_counts().values,data=df)"
   ]
  }
 ],
 "metadata": {
  "kernelspec": {
   "display_name": "Python 3.10.4 64-bit",
   "language": "python",
   "name": "python3"
  },
  "language_info": {
   "codemirror_mode": {
    "name": "ipython",
    "version": 3
   },
   "file_extension": ".py",
   "mimetype": "text/x-python",
   "name": "python",
   "nbconvert_exporter": "python",
   "pygments_lexer": "ipython3",
   "version": "3.10.4"
  },
  "orig_nbformat": 4,
  "vscode": {
   "interpreter": {
    "hash": "eda907814a1686f6e9ad6f852eb699c405cffe3b2edec83c2d364bd09dcc68a4"
   }
  }
 },
 "nbformat": 4,
 "nbformat_minor": 2
}
