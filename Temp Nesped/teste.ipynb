import matplotlib.pyplot as plt 
import seaborn as sns
import pandas as pd
df = pd.read_csv("wine.csv")
df
sns.barplot(x = df.type.value_counts().index, y = df.type.value_counts().values, data = df)
